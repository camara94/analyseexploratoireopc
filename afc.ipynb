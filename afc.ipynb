{
 "cells": [
  {
   "cell_type": "markdown",
   "metadata": {},
   "source": [
    "## Dans ce devoir, nous allons aborder les sujets suivants:\n",
    "\n",
    "* Analyse factorielle\n",
    "* Types d'analyse factorielle\n",
    "* Déterminer le nombre de facteurs\n",
    "* Analyse factorielle Vs. Analyse des composants principaux\n",
    "* Analyse factorielle en python\n",
    "* Test d'adéquation\n",
    "* Interpréter les résultats\n",
    "* Avantages et inconvénients de l'analyse factorielle\n",
    "* Conclusion"
   ]
  },
  {
   "cell_type": "markdown",
   "metadata": {},
   "source": [
    "##  Analyse factorielle\n",
    "L'analyse factorielle est un modèle statistique linéaire. Il est utilisé pour expliquer la variance entre la variable observée et condenser un ensemble de la variable observée dans la variable non observée appelée facteurs. Les variables observées sont modélisées comme une combinaison linéaire de facteurs et de termes d'erreur (Source). Le facteur ou la variable latente est associé à de multiples variables observées, qui ont des modèles de réponses communs. Chaque facteur explique une quantité particulière de variance dans les variables observées. Il aide à interpréter les données en réduisant le nombre de variables."
   ]
  },
  {
   "cell_type": "markdown",
   "metadata": {},
   "source": [
    "## Hypothèses:\n",
    "1. Il n'y a pas de valeurs aberrantes dans les données.\n",
    "2. La taille de l'échantillon doit être supérieure au facteur.\n",
    "3. Il ne devrait pas y avoir de multicolinéarité parfaite.\n",
    "4. Il ne devrait pas y avoir d'homoscédasticité entre les variables."
   ]
  },
  {
   "cell_type": "markdown",
   "metadata": {},
   "source": [
    "## Analyse factorielle Vs. Analyse des composants principaux\n",
    "* Les composantes de l'ACP expliquent la quantité maximale de variance tandis que l'analyse factorielle explique la covariance des données.\n",
    "* Les composantes de l'ACP sont entièrement orthogonales les unes par rapport aux autres, tandis que l'analyse factorielle ne nécessite pas que les facteurs soient orthogonaux.\n",
    "* La composante PCA est une combinaison linéaire de la variable observée alors qu'en FA, les variables observées sont des combinaisons linéaires de la variable ou du facteur non observé.\n",
    "* Les composants PCA ne sont pas interprétables. En FA, les facteurs sous-jacents sont étiquetables et interprétables.\n",
    "* L'ACP est une sorte de méthode de réduction de dimensionnalité alors que l'analyse factorielle est la méthode des variables latentes.\n",
    "*L'ACP est un type d'analyse factorielle. L'ACP est observationnelle alors que l'AF est une technique de modélisation."
   ]
  },
  {
   "cell_type": "markdown",
   "metadata": {},
   "source": [
    "## Sources:\n",
    "1. [le site Quora -> https://www.quora.com/What-are-the-main-differences-between-a-principal-component-analysis-and-a-factor-analysis](https://www.quora.com/What-are-the-main-differences-between-a-principal-component-analysis-and-a-factor-analysis)\n",
    "2. [le site datacamp -> https://www.datacamp.com/community/tutorials/introduction-factor-analysis](https://www.datacamp.com/community/tutorials/introduction-factor-analysis)\n",
    "3. [le openclassrooms ->https://openclassrooms.com/fr/courses/4525281-realisez-une-analyse-exploratoire-de-donnees](https://openclassrooms.com/fr/courses/4525281-realisez-une-analyse-exploratoire-de-donnees)"
   ]
  },
  {
   "cell_type": "markdown",
   "metadata": {},
   "source": [
    "## Analyse factorielle en python à l'aide du package factor_analyzer\n",
    "Importer les bibliothèques requises"
   ]
  },
  {
   "cell_type": "code",
   "execution_count": 1,
   "metadata": {},
   "outputs": [],
   "source": [
    "# Import required libraries\n",
    "import pandas as pd\n",
    "import numpy as np\n",
    "from sklearn import preprocessing\n",
    "from factor_analyzer import FactorAnalyzer\n",
    "import matplotlib.pyplot as plt\n",
    "from functions import *"
   ]
  },
  {
   "cell_type": "markdown",
   "metadata": {},
   "source": [
    "## Chargement et nettoyage de donnée"
   ]
  },
  {
   "cell_type": "code",
   "execution_count": 2,
   "metadata": {},
   "outputs": [],
   "source": [
    "data = pd.read_csv('my_courses.csv', decimal='.',  index_col=0 )"
   ]
  },
  {
   "cell_type": "code",
   "execution_count": 3,
   "metadata": {},
   "outputs": [],
   "source": [
    "data_afc = data[\n",
    "    [\"inscription\",\"progression\",\"duree\",\"difficulte\",\"nbChapitres\",\"nbEvaluations\",\"idCours\"]\n",
    "]"
   ]
  },
  {
   "cell_type": "markdown",
   "metadata": {},
   "source": [
    "## la préparation des données pour l'AFC"
   ]
  },
  {
   "cell_type": "code",
   "execution_count": 4,
   "metadata": {},
   "outputs": [],
   "source": [
    "# Il est fréquent de remplacer les valeurs inconnues par la moyenne de la variable\n",
    "data_afc = data_afc.fillna( data_afc.mean() )"
   ]
  },
  {
   "cell_type": "code",
   "execution_count": 5,
   "metadata": {},
   "outputs": [
    {
     "data": {
      "text/html": [
       "<div>\n",
       "<style scoped>\n",
       "    .dataframe tbody tr th:only-of-type {\n",
       "        vertical-align: middle;\n",
       "    }\n",
       "\n",
       "    .dataframe tbody tr th {\n",
       "        vertical-align: top;\n",
       "    }\n",
       "\n",
       "    .dataframe thead th {\n",
       "        text-align: right;\n",
       "    }\n",
       "</style>\n",
       "<table border=\"1\" class=\"dataframe\">\n",
       "  <thead>\n",
       "    <tr style=\"text-align: right;\">\n",
       "      <th></th>\n",
       "      <th>inscription</th>\n",
       "      <th>progression</th>\n",
       "      <th>duree</th>\n",
       "      <th>difficulte</th>\n",
       "      <th>nbChapitres</th>\n",
       "      <th>nbEvaluations</th>\n",
       "      <th>idCours</th>\n",
       "    </tr>\n",
       "  </thead>\n",
       "  <tbody>\n",
       "    <tr>\n",
       "      <th>count</th>\n",
       "      <td>53.000000</td>\n",
       "      <td>53.000000</td>\n",
       "      <td>53.000000</td>\n",
       "      <td>53.000000</td>\n",
       "      <td>53.000000</td>\n",
       "      <td>53.000000</td>\n",
       "      <td>5.300000e+01</td>\n",
       "    </tr>\n",
       "    <tr>\n",
       "      <th>mean</th>\n",
       "      <td>522.211538</td>\n",
       "      <td>45.673077</td>\n",
       "      <td>14.769231</td>\n",
       "      <td>1.673077</td>\n",
       "      <td>16.538462</td>\n",
       "      <td>2.269231</td>\n",
       "      <td>3.878842e+06</td>\n",
       "    </tr>\n",
       "    <tr>\n",
       "      <th>std</th>\n",
       "      <td>308.142034</td>\n",
       "      <td>39.913233</td>\n",
       "      <td>11.454954</td>\n",
       "      <td>0.642146</td>\n",
       "      <td>10.221511</td>\n",
       "      <td>1.331792</td>\n",
       "      <td>1.688720e+06</td>\n",
       "    </tr>\n",
       "    <tr>\n",
       "      <th>min</th>\n",
       "      <td>0.000000</td>\n",
       "      <td>0.000000</td>\n",
       "      <td>1.000000</td>\n",
       "      <td>1.000000</td>\n",
       "      <td>0.000000</td>\n",
       "      <td>0.000000</td>\n",
       "      <td>1.998000e+04</td>\n",
       "    </tr>\n",
       "    <tr>\n",
       "      <th>25%</th>\n",
       "      <td>346.000000</td>\n",
       "      <td>9.000000</td>\n",
       "      <td>8.000000</td>\n",
       "      <td>1.000000</td>\n",
       "      <td>10.000000</td>\n",
       "      <td>1.000000</td>\n",
       "      <td>3.013856e+06</td>\n",
       "    </tr>\n",
       "    <tr>\n",
       "      <th>50%</th>\n",
       "      <td>483.000000</td>\n",
       "      <td>28.000000</td>\n",
       "      <td>10.000000</td>\n",
       "      <td>2.000000</td>\n",
       "      <td>15.000000</td>\n",
       "      <td>2.000000</td>\n",
       "      <td>4.297166e+06</td>\n",
       "    </tr>\n",
       "    <tr>\n",
       "      <th>75%</th>\n",
       "      <td>727.000000</td>\n",
       "      <td>100.000000</td>\n",
       "      <td>20.000000</td>\n",
       "      <td>2.000000</td>\n",
       "      <td>20.000000</td>\n",
       "      <td>3.000000</td>\n",
       "      <td>4.568596e+06</td>\n",
       "    </tr>\n",
       "    <tr>\n",
       "      <th>max</th>\n",
       "      <td>1288.000000</td>\n",
       "      <td>100.000000</td>\n",
       "      <td>50.000000</td>\n",
       "      <td>3.000000</td>\n",
       "      <td>51.000000</td>\n",
       "      <td>5.000000</td>\n",
       "      <td>6.692406e+06</td>\n",
       "    </tr>\n",
       "  </tbody>\n",
       "</table>\n",
       "</div>"
      ],
      "text/plain": [
       "       inscription  progression      duree  difficulte  nbChapitres  \\\n",
       "count    53.000000    53.000000  53.000000   53.000000    53.000000   \n",
       "mean    522.211538    45.673077  14.769231    1.673077    16.538462   \n",
       "std     308.142034    39.913233  11.454954    0.642146    10.221511   \n",
       "min       0.000000     0.000000   1.000000    1.000000     0.000000   \n",
       "25%     346.000000     9.000000   8.000000    1.000000    10.000000   \n",
       "50%     483.000000    28.000000  10.000000    2.000000    15.000000   \n",
       "75%     727.000000   100.000000  20.000000    2.000000    20.000000   \n",
       "max    1288.000000   100.000000  50.000000    3.000000    51.000000   \n",
       "\n",
       "       nbEvaluations       idCours  \n",
       "count      53.000000  5.300000e+01  \n",
       "mean        2.269231  3.878842e+06  \n",
       "std         1.331792  1.688720e+06  \n",
       "min         0.000000  1.998000e+04  \n",
       "25%         1.000000  3.013856e+06  \n",
       "50%         2.000000  4.297166e+06  \n",
       "75%         3.000000  4.568596e+06  \n",
       "max         5.000000  6.692406e+06  "
      ]
     },
     "execution_count": 5,
     "metadata": {},
     "output_type": "execute_result"
    }
   ],
   "source": [
    "data_afc.describe()"
   ]
  },
  {
   "cell_type": "code",
   "execution_count": 6,
   "metadata": {},
   "outputs": [],
   "source": [
    "X = data_afc.iloc[:, 1:]\n",
    "# ou data.index pour avoir les intitulés\n",
    "features = data.columns\n",
    "names = data[\"idCours\"] "
   ]
  },
  {
   "cell_type": "code",
   "execution_count": 7,
   "metadata": {},
   "outputs": [],
   "source": [
    "# Suppression des lignes de valeurs manquantes\n",
    "data_afc.dropna(inplace=True)"
   ]
  },
  {
   "cell_type": "code",
   "execution_count": 8,
   "metadata": {},
   "outputs": [
    {
     "data": {
      "text/plain": [
       "inscription      3.081420e+02\n",
       "progression      3.991323e+01\n",
       "duree            1.145495e+01\n",
       "difficulte       6.421465e-01\n",
       "nbChapitres      1.022151e+01\n",
       "nbEvaluations    1.331792e+00\n",
       "idCours          1.688720e+06\n",
       "dtype: float64"
      ]
     },
     "execution_count": 8,
     "metadata": {},
     "output_type": "execute_result"
    }
   ],
   "source": [
    "data_afc.std()"
   ]
  },
  {
   "cell_type": "code",
   "execution_count": 9,
   "metadata": {},
   "outputs": [
    {
     "name": "stdout",
     "output_type": "stream",
     "text": [
      "<class 'pandas.core.frame.DataFrame'>\n",
      "Index: 53 entries, Réalisez_une_analyse_exploratoire_de_données to Créez_votre_première_application_connectée_en_C\n",
      "Data columns (total 7 columns):\n",
      " #   Column         Non-Null Count  Dtype  \n",
      "---  ------         --------------  -----  \n",
      " 0   inscription    53 non-null     float64\n",
      " 1   progression    53 non-null     float64\n",
      " 2   duree          53 non-null     float64\n",
      " 3   difficulte     53 non-null     float64\n",
      " 4   nbChapitres    53 non-null     float64\n",
      " 5   nbEvaluations  53 non-null     float64\n",
      " 6   idCours        53 non-null     float64\n",
      "dtypes: float64(7)\n",
      "memory usage: 3.3+ KB\n"
     ]
    }
   ],
   "source": [
    "data_afc.info()"
   ]
  },
  {
   "cell_type": "markdown",
   "metadata": {},
   "source": [
    "## Centrage et Réduction"
   ]
  },
  {
   "cell_type": "code",
   "execution_count": 10,
   "metadata": {},
   "outputs": [],
   "source": [
    "std_scale = preprocessing.StandardScaler().fit(X)\n",
    "X_scaled = std_scale.transform(X)"
   ]
  },
  {
   "cell_type": "markdown",
   "metadata": {},
   "source": [
    "## Test d'adéquation\n",
    "\n",
    "Avant d'effectuer une analyse factorielle, nous devons évaluer la **«factorabilité»** de notre ensemble de données. La **factorabilité** signifie «pouvons-nous trouver les facteurs dans l'ensemble de données?». Il existe deux méthodes pour vérifier la factorabilité ou l'adéquation de l'échantillonnage:\n",
    "* Test de Bartlett \n",
    "* Test de Kaiser-Meyer-Olkin\n",
    "### Test de Bartlett \n",
    "Le test de sphéricité de Bartlett vérifie si les variables observées sont intercorrélées ou non en utilisant la matrice de corrélation observée avec la matrice d'identité. Si le test est statistiquement insignifiant, nous ne devons pas recourir à une analyse factorielle."
   ]
  },
  {
   "cell_type": "code",
   "execution_count": 11,
   "metadata": {},
   "outputs": [
    {
     "data": {
      "text/plain": [
       "(120.48589216495773, 2.457894629688601e-16)"
      ]
     },
     "execution_count": 11,
     "metadata": {},
     "output_type": "execute_result"
    }
   ],
   "source": [
    "from factor_analyzer.factor_analyzer import calculate_bartlett_sphericity\n",
    "chi_square_value,p_value=calculate_bartlett_sphericity(data_afc)\n",
    "chi_square_value, p_value"
   ]
  },
  {
   "cell_type": "markdown",
   "metadata": {},
   "source": [
    "Dans ce test de Bartlett, la valeur p est sensiblement égale à 0. Le test était statistiquement significatif, indiquant que la matrice de corrélation observée n’est pas une matrice d’identité on peut le vérifier maintenant."
   ]
  },
  {
   "cell_type": "markdown",
   "metadata": {},
   "source": [
    "## Matrice de correlation"
   ]
  },
  {
   "cell_type": "code",
   "execution_count": 12,
   "metadata": {},
   "outputs": [
    {
     "data": {
      "text/html": [
       "<div>\n",
       "<style scoped>\n",
       "    .dataframe tbody tr th:only-of-type {\n",
       "        vertical-align: middle;\n",
       "    }\n",
       "\n",
       "    .dataframe tbody tr th {\n",
       "        vertical-align: top;\n",
       "    }\n",
       "\n",
       "    .dataframe thead th {\n",
       "        text-align: right;\n",
       "    }\n",
       "</style>\n",
       "<table border=\"1\" class=\"dataframe\">\n",
       "  <thead>\n",
       "    <tr style=\"text-align: right;\">\n",
       "      <th></th>\n",
       "      <th>inscription</th>\n",
       "      <th>progression</th>\n",
       "      <th>duree</th>\n",
       "      <th>difficulte</th>\n",
       "      <th>nbChapitres</th>\n",
       "      <th>nbEvaluations</th>\n",
       "      <th>idCours</th>\n",
       "    </tr>\n",
       "  </thead>\n",
       "  <tbody>\n",
       "    <tr>\n",
       "      <th>inscription</th>\n",
       "      <td>1.000000</td>\n",
       "      <td>0.290442</td>\n",
       "      <td>0.339338</td>\n",
       "      <td>0.074504</td>\n",
       "      <td>0.257902</td>\n",
       "      <td>0.062045</td>\n",
       "      <td>-0.408419</td>\n",
       "    </tr>\n",
       "    <tr>\n",
       "      <th>progression</th>\n",
       "      <td>0.290442</td>\n",
       "      <td>1.000000</td>\n",
       "      <td>-0.028052</td>\n",
       "      <td>-0.139227</td>\n",
       "      <td>-0.059197</td>\n",
       "      <td>-0.043205</td>\n",
       "      <td>-0.187387</td>\n",
       "    </tr>\n",
       "    <tr>\n",
       "      <th>duree</th>\n",
       "      <td>0.339338</td>\n",
       "      <td>-0.028052</td>\n",
       "      <td>1.000000</td>\n",
       "      <td>0.591052</td>\n",
       "      <td>0.781054</td>\n",
       "      <td>0.118785</td>\n",
       "      <td>-0.530187</td>\n",
       "    </tr>\n",
       "    <tr>\n",
       "      <th>difficulte</th>\n",
       "      <td>0.074504</td>\n",
       "      <td>-0.139227</td>\n",
       "      <td>0.591052</td>\n",
       "      <td>1.000000</td>\n",
       "      <td>0.437000</td>\n",
       "      <td>0.012973</td>\n",
       "      <td>-0.241362</td>\n",
       "    </tr>\n",
       "    <tr>\n",
       "      <th>nbChapitres</th>\n",
       "      <td>0.257902</td>\n",
       "      <td>-0.059197</td>\n",
       "      <td>0.781054</td>\n",
       "      <td>0.437000</td>\n",
       "      <td>1.000000</td>\n",
       "      <td>0.276126</td>\n",
       "      <td>-0.547328</td>\n",
       "    </tr>\n",
       "    <tr>\n",
       "      <th>nbEvaluations</th>\n",
       "      <td>0.062045</td>\n",
       "      <td>-0.043205</td>\n",
       "      <td>0.118785</td>\n",
       "      <td>0.012973</td>\n",
       "      <td>0.276126</td>\n",
       "      <td>1.000000</td>\n",
       "      <td>0.031165</td>\n",
       "    </tr>\n",
       "    <tr>\n",
       "      <th>idCours</th>\n",
       "      <td>-0.408419</td>\n",
       "      <td>-0.187387</td>\n",
       "      <td>-0.530187</td>\n",
       "      <td>-0.241362</td>\n",
       "      <td>-0.547328</td>\n",
       "      <td>0.031165</td>\n",
       "      <td>1.000000</td>\n",
       "    </tr>\n",
       "  </tbody>\n",
       "</table>\n",
       "</div>"
      ],
      "text/plain": [
       "               inscription  progression     duree  difficulte  nbChapitres  \\\n",
       "inscription       1.000000     0.290442  0.339338    0.074504     0.257902   \n",
       "progression       0.290442     1.000000 -0.028052   -0.139227    -0.059197   \n",
       "duree             0.339338    -0.028052  1.000000    0.591052     0.781054   \n",
       "difficulte        0.074504    -0.139227  0.591052    1.000000     0.437000   \n",
       "nbChapitres       0.257902    -0.059197  0.781054    0.437000     1.000000   \n",
       "nbEvaluations     0.062045    -0.043205  0.118785    0.012973     0.276126   \n",
       "idCours          -0.408419    -0.187387 -0.530187   -0.241362    -0.547328   \n",
       "\n",
       "               nbEvaluations   idCours  \n",
       "inscription         0.062045 -0.408419  \n",
       "progression        -0.043205 -0.187387  \n",
       "duree               0.118785 -0.530187  \n",
       "difficulte          0.012973 -0.241362  \n",
       "nbChapitres         0.276126 -0.547328  \n",
       "nbEvaluations       1.000000  0.031165  \n",
       "idCours             0.031165  1.000000  "
      ]
     },
     "execution_count": 12,
     "metadata": {},
     "output_type": "execute_result"
    }
   ],
   "source": [
    "data_afc.corr()"
   ]
  },
  {
   "cell_type": "markdown",
   "metadata": {},
   "source": [
    "## Test de Kaiser-Meyer-Olkin (KMO)"
   ]
  },
  {
   "cell_type": "markdown",
   "metadata": {},
   "source": [
    "mesure la pertinence des données pour l'analyse factorielle. Il détermine l'adéquation pour chaque variable observée et pour le modèle complet. KMO estime la proportion de variance parmi toutes les variables observées. Une proportion plus faible est plus adaptée à l'analyse factorielle Les valeurs de KMO sont comprises entre 0 et 1. Une valeur de KMO inférieure à 0,6 est considérée comme inadéquate."
   ]
  },
  {
   "cell_type": "code",
   "execution_count": 13,
   "metadata": {},
   "outputs": [
    {
     "data": {
      "text/plain": [
       "array([0.68488331, 0.55286708, 0.66692669, 0.71680752, 0.65854926,\n",
       "       0.33753609, 0.7555306 ])"
      ]
     },
     "execution_count": 13,
     "metadata": {},
     "output_type": "execute_result"
    }
   ],
   "source": [
    "from factor_analyzer.factor_analyzer import calculate_kmo\n",
    "kmo_all,kmo_model=calculate_kmo(data_afc)\n",
    "kmo_all"
   ]
  },
  {
   "cell_type": "code",
   "execution_count": 14,
   "metadata": {},
   "outputs": [
    {
     "data": {
      "text/plain": [
       "0.6687606621794097"
      ]
     },
     "execution_count": 14,
     "metadata": {},
     "output_type": "execute_result"
    }
   ],
   "source": [
    "kmo_model"
   ]
  },
  {
   "cell_type": "markdown",
   "metadata": {},
   "source": [
    "#### Le KMO global pour nos données est de **0.67**, ce qui n'est mal ici. Cette valeur indique que nous pouvons poursuivre votre analyse factorielle planifiée."
   ]
  },
  {
   "cell_type": "markdown",
   "metadata": {},
   "source": [
    "## Choix du nombre de facteurs"
   ]
  },
  {
   "cell_type": "markdown",
   "metadata": {},
   "source": [
    "Pour choisir le nombre de facteurs, nous pouvons utiliser le **Kaiser criterion** et **scree plot**. Les deux sont basés sur des valeurs propres."
   ]
  },
  {
   "cell_type": "code",
   "execution_count": 15,
   "metadata": {},
   "outputs": [
    {
     "data": {
      "text/plain": [
       "array([2.62715241, 1.16907705, 1.01904334, 0.64229814, 0.36086515,\n",
       "       0.18156391])"
      ]
     },
     "execution_count": 15,
     "metadata": {},
     "output_type": "execute_result"
    }
   ],
   "source": [
    "# Créer un objet d'analyse factorielle et effectuer une analyse factorielle\n",
    "fa = FactorAnalyzer()\n",
    "fa = FactorAnalyzer()\n",
    "fa.fit(np.array(data_afc.iloc[:, 1:]))\n",
    "# Vérifier les valeurs propres\n",
    "eigen_values, vectors = fa.get_eigenvalues()\n",
    "eigen_values"
   ]
  },
  {
   "cell_type": "code",
   "execution_count": 16,
   "metadata": {},
   "outputs": [
    {
     "data": {
      "text/html": [
       "<div>\n",
       "<style scoped>\n",
       "    .dataframe tbody tr th:only-of-type {\n",
       "        vertical-align: middle;\n",
       "    }\n",
       "\n",
       "    .dataframe tbody tr th {\n",
       "        vertical-align: top;\n",
       "    }\n",
       "\n",
       "    .dataframe thead th {\n",
       "        text-align: right;\n",
       "    }\n",
       "</style>\n",
       "<table border=\"1\" class=\"dataframe\">\n",
       "  <thead>\n",
       "    <tr style=\"text-align: right;\">\n",
       "      <th></th>\n",
       "      <th>Valeurs propres</th>\n",
       "    </tr>\n",
       "  </thead>\n",
       "  <tbody>\n",
       "    <tr>\n",
       "      <th>0</th>\n",
       "      <td>2.627152</td>\n",
       "    </tr>\n",
       "    <tr>\n",
       "      <th>1</th>\n",
       "      <td>1.169077</td>\n",
       "    </tr>\n",
       "    <tr>\n",
       "      <th>2</th>\n",
       "      <td>1.019043</td>\n",
       "    </tr>\n",
       "    <tr>\n",
       "      <th>3</th>\n",
       "      <td>0.642298</td>\n",
       "    </tr>\n",
       "    <tr>\n",
       "      <th>4</th>\n",
       "      <td>0.360865</td>\n",
       "    </tr>\n",
       "    <tr>\n",
       "      <th>5</th>\n",
       "      <td>0.181564</td>\n",
       "    </tr>\n",
       "  </tbody>\n",
       "</table>\n",
       "</div>"
      ],
      "text/plain": [
       "   Valeurs propres\n",
       "0         2.627152\n",
       "1         1.169077\n",
       "2         1.019043\n",
       "3         0.642298\n",
       "4         0.360865\n",
       "5         0.181564"
      ]
     },
     "execution_count": 16,
     "metadata": {},
     "output_type": "execute_result"
    }
   ],
   "source": [
    "## Améliorons l'affichage\n",
    "valeur_propre = pd.DataFrame({'Valeurs propres':eigen_values})\n",
    "valeur_propre"
   ]
  },
  {
   "cell_type": "markdown",
   "metadata": {},
   "source": [
    "#### Ici, nous pouvons voir que pour 3 facteurs, les valeurs propres sont supérieures à un. Cela signifie que nous devons choisir seulement 3 facteurs (ou des variables non observées)."
   ]
  },
  {
   "cell_type": "code",
   "execution_count": 17,
   "metadata": {},
   "outputs": [
    {
     "data": {
      "image/png": "[encoded data removed]",
      "text/plain": [
       "<Figure size 432x288 with 1 Axes>"
      ]
     },
     "metadata": {
      "needs_background": "light"
     },
     "output_type": "display_data"
    }
   ],
   "source": [
    "# Create scree plot using matplotlib\n",
    "plt.scatter(range(1,data_afc.shape[1]), eigen_values)\n",
    "plt.plot(range(1,data_afc.shape[1]), eigen_values)\n",
    "plt.title('Tracé d\\'effondrement')\n",
    "plt.xlabel('Les facteurs')\n",
    "plt.ylabel('Valeur propre')\n",
    "plt.grid()\n",
    "plt.show()"
   ]
  },
  {
   "cell_type": "code",
   "execution_count": 18,
   "metadata": {},
   "outputs": [
    {
     "data": {
      "image/png": "[encoded data removed]",
      "text/plain": [
       "<Figure size 432x288 with 1 Axes>"
      ]
     },
     "metadata": {
      "needs_background": "light"
     },
     "output_type": "display_data"
    }
   ],
   "source": [
    "from functions import *\n",
    "def display_scree_plot(v):\n",
    "    scree = (v/600)*10000\n",
    "    plt.bar(np.arange(len(scree))+1, scree)\n",
    "    plt.plot(np.arange(len(scree))+1, scree.cumsum(),c=\"red\",marker='o')\n",
    "    plt.xlabel(\"rang de l'axe d'inertie\")\n",
    "    plt.ylabel(\"pourcentage d'inertie\")\n",
    "    plt.title(\"Eboulis des valeurs propres\")\n",
    "    plt.show(block=False)\n",
    "display_scree_plot(eigen_values)"
   ]
  },
  {
   "cell_type": "markdown",
   "metadata": {},
   "source": [
    "La méthode de **tracé en éboulis trace(scree plot)** une ligne droite pour chaque facteur et ses valeurs propres. Nombre de valeurs propres supérieur à un considéré comme le nombre de facteurs.\n",
    "\n",
    "Ici, nous pouvons voir que pour 5 facteurs, les valeurs propres sont supérieures à un. Cela signifie que nous devons choisir seulement 5 facteurs (ou des variables non observées)."
   ]
  },
  {
   "cell_type": "markdown",
   "metadata": {},
   "source": [
    "## Effectuons une analyse factorielle"
   ]
  },
  {
   "cell_type": "code",
   "execution_count": 19,
   "metadata": {},
   "outputs": [
    {
     "data": {
      "text/plain": [
       "FactorAnalyzer(rotation='varimax', rotation_kwargs={})"
      ]
     },
     "execution_count": 19,
     "metadata": {},
     "output_type": "execute_result"
    }
   ],
   "source": [
    "# Créer un objet d'analyse factorielle et effectuer une analyse factorielle\n",
    "fa = FactorAnalyzer()\n",
    "fa.set_params(n_factors=3, rotation=\"varimax\")"
   ]
  },
  {
   "cell_type": "code",
   "execution_count": 20,
   "metadata": {},
   "outputs": [
    {
     "data": {
      "text/plain": [
       "array([[ 0.22928479,  0.04913759,  0.59570035],\n",
       "       [-0.13760605, -0.02946831,  0.52843367],\n",
       "       [ 0.93593916,  0.05291487,  0.16203971],\n",
       "       [ 0.61504405, -0.03721217, -0.12173067],\n",
       "       [ 0.80492248,  0.21817184,  0.15750858],\n",
       "       [ 0.07239358,  0.99542025, -0.01546904],\n",
       "       [-0.52176389,  0.04963359, -0.49820028]])"
      ]
     },
     "execution_count": 20,
     "metadata": {},
     "output_type": "execute_result"
    }
   ],
   "source": [
    "fa.fit(data_afc)\n",
    "fa.loadings_"
   ]
  },
  {
   "cell_type": "code",
   "execution_count": 21,
   "metadata": {},
   "outputs": [
    {
     "data": {
      "text/plain": [
       "Index(['inscription', 'progression', 'moyenneDeClasse', 'duree', 'difficulte',\n",
       "       'nbChapitres', 'ratioQuizEvaluation', 'nbEvaluations',\n",
       "       'derniereMiseAJour', 'idCours'],\n",
       "      dtype='object')"
      ]
     },
     "execution_count": 21,
     "metadata": {},
     "output_type": "execute_result"
    }
   ],
   "source": [
    "fa.loadings_[0]\n",
    "features"
   ]
  },
  {
   "cell_type": "code",
   "execution_count": 22,
   "metadata": {},
   "outputs": [
    {
     "data": {
      "image/png": "[encoded data removed]",
      "text/plain": [
       "<Figure size 504x432 with 1 Axes>"
      ]
     },
     "metadata": {
      "needs_background": "light"
     },
     "output_type": "display_data"
    },
    {
     "data": {
      "image/png": "[encoded data removed]",
      "text/plain": [
       "<Figure size 504x432 with 1 Axes>"
      ]
     },
     "metadata": {
      "needs_background": "light"
     },
     "output_type": "display_data"
    },
    {
     "data": {
      "image/png": "[encoded data removed]",
      "text/plain": [
       "<Figure size 504x432 with 1 Axes>"
      ]
     },
     "metadata": {
      "needs_background": "light"
     },
     "output_type": "display_data"
    }
   ],
   "source": [
    "from functions import *\n",
    "# Cercle des corrélations\n",
    "pcs = fa.loadings_\n",
    "pcs[[0,1, 2]].T\n",
    "\n",
    "\n",
    "\n",
    "display_circles2(pcs, 6, fa, [(0, 1),(2, 3),(4, 5)], labels = np.array(features))"
   ]
  },
  {
   "cell_type": "code",
   "execution_count": 23,
   "metadata": {},
   "outputs": [
    {
     "data": {
      "text/plain": [
       "Index(['inscription', 'progression', 'duree', 'difficulte', 'nbChapitres',\n",
       "       'nbEvaluations', 'idCours'],\n",
       "      dtype='object')"
      ]
     },
     "execution_count": 23,
     "metadata": {},
     "output_type": "execute_result"
    }
   ],
   "source": [
    "data_afc.columns"
   ]
  },
  {
   "cell_type": "code",
   "execution_count": 24,
   "metadata": {},
   "outputs": [],
   "source": [
    "colonnes=['inscription', 'progression', 'duree', 'difficulte',\n",
    "       'nbChapitres', 'nbEvaluations', 'derniereMiseAJour', 'idCours']"
   ]
  },
  {
   "cell_type": "code",
   "execution_count": 25,
   "metadata": {},
   "outputs": [],
   "source": [
    "interpretation=[\n",
    "    'On voit ici que les cours sont intéressants, mais très difficiles, cela s\\'explique par le fait que très peu d\\'étudiants arrivent à progrésser et en plus ça se voit sur la longueur des cours et le nombre de chapitre',\n",
    "    'Ici les cours ne sont pas du tout intéressant et ils sont faciles',\n",
    "    'Nous avons des meilleurs cours ici et formidables: plus d\\'inscris, plus de progression, durée plutôt moyenne, difficulté facile'\n",
    "]"
   ]
  },
  {
   "cell_type": "code",
   "execution_count": 26,
   "metadata": {},
   "outputs": [
    {
     "name": "stdout",
     "output_type": "stream",
     "text": [
      "Facteur1 \n",
      "inscription: 0.229\n",
      "progression: -0.138\n",
      "duree: 0.936\n",
      "difficulte: 0.615\n",
      "nbChapitres: 0.805\n",
      "nbEvaluations: 0.072\n",
      "derniereMiseAJour: -0.522\n",
      "    Sigification:\n",
      "        On voit ici que les cours sont intéressants, mais très difficiles, cela s'explique par le fait que très peu d'étudiants arrivent à progrésser et en plus ça se voit sur la longueur des cours et le nombre de chapitre\n",
      "  \n",
      "Facteur2 \n",
      "inscription: 0.049\n",
      "progression: -0.029\n",
      "duree: 0.053\n",
      "difficulte: -0.037\n",
      "nbChapitres: 0.218\n",
      "nbEvaluations: 0.995\n",
      "derniereMiseAJour: 0.05\n",
      "    Sigification:\n",
      "        Ici les cours ne sont pas du tout intéressant et ils sont faciles\n",
      "  \n",
      "Facteur3 \n",
      "inscription: 0.596\n",
      "progression: 0.528\n",
      "duree: 0.162\n",
      "difficulte: -0.122\n",
      "nbChapitres: 0.158\n",
      "nbEvaluations: -0.015\n",
      "derniereMiseAJour: -0.498\n",
      "    Sigification:\n",
      "        Nous avons des meilleurs cours ici et formidables: plus d'inscris, plus de progression, durée plutôt moyenne, difficulté facile\n",
      "  \n",
      "  \n",
      "  \n",
      "  \n",
      "  \n"
     ]
    }
   ],
   "source": [
    "\n",
    "for i, facteur in enumerate(fa.loadings_):\n",
    "    if i < 3:\n",
    "        print('Facteur{} '.format(i+1))\n",
    "    for j, v in enumerate(fa.loadings_[:]):\n",
    "        if i<3:\n",
    "            print('{}: {}'.format(colonnes[j], np.round(v[i]*1000)/1000))\n",
    "    if i < 3:\n",
    "        print('    Sigification:')\n",
    "        print('        '  + interpretation[i])\n",
    "    print('  ')"
   ]
  },
  {
   "cell_type": "code",
   "execution_count": 27,
   "metadata": {},
   "outputs": [
    {
     "data": {
      "text/plain": [
       "(array([2.25114684, 1.04839153, 0.94842804]),\n",
       " array([0.32159241, 0.14977022, 0.13548972]),\n",
       " array([0.32159241, 0.47136262, 0.60685234]))"
      ]
     },
     "execution_count": 27,
     "metadata": {},
     "output_type": "execute_result"
    }
   ],
   "source": [
    "fa.get_factor_variance()"
   ]
  },
  {
   "cell_type": "code",
   "execution_count": 28,
   "metadata": {},
   "outputs": [
    {
     "data": {
      "text/plain": [
       "array([[-0.09928921, -0.28885893],\n",
       "       [ 0.936317  , -0.06812874],\n",
       "       [ 0.58523777,  0.0827091 ],\n",
       "       [ 0.83688249, -0.11027842],\n",
       "       [ 0.18099905,  0.11538218],\n",
       "       [-0.52038935,  0.85197887]])"
      ]
     },
     "execution_count": 28,
     "metadata": {},
     "output_type": "execute_result"
    }
   ],
   "source": [
    "\n",
    "# Créer un objet d'analyse factorielle et effectuer une analyse factorielle\n",
    "fa2 = FactorAnalyzer()\n",
    "fa2.set_params(n_factors=2, rotation=\"varimax\")\n",
    "\n",
    "fa2.fit(data_afc.iloc[:, 1:])\n",
    "fa2.loadings_"
   ]
  },
  {
   "cell_type": "code",
   "execution_count": 29,
   "metadata": {},
   "outputs": [
    {
     "data": {
      "text/plain": [
       "(array([2.23298915, 0.84626417]),\n",
       " array([0.37216486, 0.14104403]),\n",
       " array([0.37216486, 0.51320889]))"
      ]
     },
     "execution_count": 29,
     "metadata": {},
     "output_type": "execute_result"
    }
   ],
   "source": [
    "fa2.get_factor_variance()"
   ]
  },
  {
   "cell_type": "code",
   "execution_count": 30,
   "metadata": {},
   "outputs": [
    {
     "name": "stdout",
     "output_type": "stream",
     "text": [
      "    \n",
      "inscription: -0.099\n",
      "progression: 0.936\n",
      "duree: 0.585\n",
      "difficulte: 0.837\n",
      "nbChapitres: 0.181\n",
      "    \n",
      "inscription: -0.289\n",
      "progression: -0.068\n",
      "duree: 0.083\n",
      "difficulte: -0.11\n",
      "nbChapitres: 0.115\n",
      "    \n",
      "    \n",
      "    \n",
      "    \n"
     ]
    }
   ],
   "source": [
    "for i, facteur in enumerate(fa2.loadings_):\n",
    "    print('    ')\n",
    "    for j, v in enumerate(fa2.loadings_[:-1]):\n",
    "        if i<2:\n",
    "            print('{}: {}'.format(colonnes[j], np.round(v[i]*1000)/1000))"
   ]
  },
  {
   "cell_type": "code",
   "execution_count": 31,
   "metadata": {},
   "outputs": [],
   "source": [
    "from mpl_toolkits import mplot3d"
   ]
  },
  {
   "cell_type": "code",
   "execution_count": 32,
   "metadata": {},
   "outputs": [
    {
     "data": {
      "text/plain": [
       "array([[ 0.22928479,  0.04913759,  0.59570035],\n",
       "       [-0.13760605, -0.02946831,  0.52843367],\n",
       "       [ 0.93593916,  0.05291487,  0.16203971],\n",
       "       [ 0.61504405, -0.03721217, -0.12173067],\n",
       "       [ 0.80492248,  0.21817184,  0.15750858],\n",
       "       [ 0.07239358,  0.99542025, -0.01546904],\n",
       "       [-0.52176389,  0.04963359, -0.49820028]])"
      ]
     },
     "execution_count": 32,
     "metadata": {},
     "output_type": "execute_result"
    }
   ],
   "source": [
    "fa.loadings_"
   ]
  },
  {
   "cell_type": "code",
   "execution_count": 36,
   "metadata": {},
   "outputs": [
    {
     "data": {
      "text/plain": [
       "[0.22928479241041064,\n",
       " -0.13760605292069555,\n",
       " 0.9359391649772936,\n",
       " 0.6150440535557938,\n",
       " 0.8049224821286349,\n",
       " 0.07239357880542305,\n",
       " -0.5217638865069657]"
      ]
     },
     "execution_count": 36,
     "metadata": {},
     "output_type": "execute_result"
    }
   ],
   "source": [
    "coef_d1 =[]\n",
    "coef_d2 =[]\n",
    "coef_d3 =[]\n",
    "for i in fa.loadings_:\n",
    "    coef_d1.append(i[0])\n",
    "    coef_d2.append(i[1])\n",
    "    coef_d3.append(i[2])\n",
    "    \n",
    "coef_d1"
   ]
  },
  {
   "cell_type": "code",
   "execution_count": 42,
   "metadata": {},
   "outputs": [
    {
     "data": {
      "application/javascript": [
       "/* Put everything inside the global mpl namespace */\n",
       "/* global mpl */\n",
       "window.mpl = {};\n",
       "\n",
       "mpl.get_websocket_type = function () {\n",
       "    if (typeof WebSocket !== 'undefined') {\n",
       "        return WebSocket;\n",
       "    } else if (typeof MozWebSocket !== 'undefined') {\n",
       "        return MozWebSocket;\n",
       "    } else {\n",
       "        alert(\n",
       "            'Your browser does not have WebSocket support. ' +\n",
       "                'Please try Chrome, Safari or Firefox ≥ 6. ' +\n",
       "                'Firefox 4 and 5 are also supported but you ' +\n",
       "                'have to enable WebSockets in about:config.'\n",
       "        );\n",
       "    }\n",
       "};\n",
       "\n",
       "mpl.figure = function (figure_id, websocket, ondownload, parent_element) {\n",
       "    this.id = figure_id;\n",
       "\n",
       "    this.ws = websocket;\n",
       "\n",
       "    this.supports_binary = this.ws.binaryType !== undefined;\n",
       "\n",
       "    if (!this.supports_binary) {\n",
       "        var warnings = document.getElementById('mpl-warnings');\n",
       "        if (warnings) {\n",
       "            warnings.style.display = 'block';\n",
       "            warnings.textContent =\n",
       "                'This browser does not support binary websocket messages. ' +\n",
       "                'Performance may be slow.';\n",
       "        }\n",
       "    }\n",
       "\n",
       "    this.imageObj = new Image();\n",
       "\n",
       "    this.context = undefined;\n",
       "    this.message = undefined;\n",
       "    this.canvas = undefined;\n",
       "    this.rubberband_canvas = undefined;\n",
       "    this.rubberband_context = undefined;\n",
       "    this.format_dropdown = undefined;\n",
       "\n",
       "    this.image_mode = 'full';\n",
       "\n",
       "    this.root = document.createElement('div');\n",
       "    this.root.setAttribute('style', 'display: inline-block');\n",
       "    this._root_extra_style(this.root);\n",
       "\n",
       "    parent_element.appendChild(this.root);\n",
       "\n",
       "    this._init_header(this);\n",
       "    this._init_canvas(this);\n",
       "    this._init_toolbar(this);\n",
       "\n",
       "    var fig = this;\n",
       "\n",
       "    this.waiting = false;\n",
       "\n",
       "    this.ws.onopen = function () {\n",
       "        fig.send_message('supports_binary', { value: fig.supports_binary });\n",
       "        fig.send_message('send_image_mode', {});\n",
       "        if (fig.ratio !== 1) {\n",
       "            fig.send_message('set_dpi_ratio', { dpi_ratio: fig.ratio });\n",
       "        }\n",
       "        fig.send_message('refresh', {});\n",
       "    };\n",
       "\n",
       "    this.imageObj.onload = function () {\n",
       "        if (fig.image_mode === 'full') {\n",
       "            // Full images could contain transparency (where diff images\n",
       "            // almost always do), so we need to clear the canvas so that\n",
       "            // there is no ghosting.\n",
       "            fig.context.clearRect(0, 0, fig.canvas.width, fig.canvas.height);\n",
       "        }\n",
       "        fig.context.drawImage(fig.imageObj, 0, 0);\n",
       "    };\n",
       "\n",
       "    this.imageObj.onunload = function () {\n",
       "        fig.ws.close();\n",
       "    };\n",
       "\n",
       "    this.ws.onmessage = this._make_on_message_function(this);\n",
       "\n",
       "    this.ondownload = ondownload;\n",
       "};\n",
       "\n",
       "mpl.figure.prototype._init_header = function () {\n",
       "    var titlebar = document.createElement('div');\n",
       "    titlebar.classList =\n",
       "        'ui-dialog-titlebar ui-widget-header ui-corner-all ui-helper-clearfix';\n",
       "    var titletext = document.createElement('div');\n",
       "    titletext.classList = 'ui-dialog-title';\n",
       "    titletext.setAttribute(\n",
       "        'style',\n",
       "        'width: 100%; text-align: center; padding: 3px;'\n",
       "    );\n",
       "    titlebar.appendChild(titletext);\n",
       "    this.root.appendChild(titlebar);\n",
       "    this.header = titletext;\n",
       "};\n",
       "\n",
       "mpl.figure.prototype._canvas_extra_style = function (_canvas_div) {};\n",
       "\n",
       "mpl.figure.prototype._root_extra_style = function (_canvas_div) {};\n",
       "\n",
       "mpl.figure.prototype._init_canvas = function () {\n",
       "    var fig = this;\n",
       "\n",
       "    var canvas_div = (this.canvas_div = document.createElement('div'));\n",
       "    canvas_div.setAttribute(\n",
       "        'style',\n",
       "        'border: 1px solid #ddd;' +\n",
       "            'box-sizing: content-box;' +\n",
       "            'clear: both;' +\n",
       "            'min-height: 1px;' +\n",
       "            'min-width: 1px;' +\n",
       "            'outline: 0;' +\n",
       "            'overflow: hidden;' +\n",
       "            'position: relative;' +\n",
       "            'resize: both;'\n",
       "    );\n",
       "\n",
       "    function on_keyboard_event_closure(name) {\n",
       "        return function (event) {\n",
       "            return fig.key_event(event, name);\n",
       "        };\n",
       "    }\n",
       "\n",
       "    canvas_div.addEventListener(\n",
       "        'keydown',\n",
       "        on_keyboard_event_closure('key_press')\n",
       "    );\n",
       "    canvas_div.addEventListener(\n",
       "        'keyup',\n",
       "        on_keyboard_event_closure('key_release')\n",
       "    );\n",
       "\n",
       "    this._canvas_extra_style(canvas_div);\n",
       "    this.root.appendChild(canvas_div);\n",
       "\n",
       "    var canvas = (this.canvas = document.createElement('canvas'));\n",
       "    canvas.classList.add('mpl-canvas');\n",
       "    canvas.setAttribute('style', 'box-sizing: content-box;');\n",
       "\n",
       "    this.context = canvas.getContext('2d');\n",
       "\n",
       "    var backingStore =\n",
       "        this.context.backingStorePixelRatio ||\n",
       "        this.context.webkitBackingStorePixelRatio ||\n",
       "        this.context.mozBackingStorePixelRatio ||\n",
       "        this.context.msBackingStorePixelRatio ||\n",
       "        this.context.oBackingStorePixelRatio ||\n",
       "        this.context.backingStorePixelRatio ||\n",
       "        1;\n",
       "\n",
       "    this.ratio = (window.devicePixelRatio || 1) / backingStore;\n",
       "    if (this.ratio !== 1) {\n",
       "        fig.send_message('set_dpi_ratio', { dpi_ratio: this.ratio });\n",
       "    }\n",
       "\n",
       "    var rubberband_canvas = (this.rubberband_canvas = document.createElement(\n",
       "        'canvas'\n",
       "    ));\n",
       "    rubberband_canvas.setAttribute(\n",
       "        'style',\n",
       "        'box-sizing: content-box; position: absolute; left: 0; top: 0; z-index: 1;'\n",
       "    );\n",
       "\n",
       "    var resizeObserver = new ResizeObserver(function (entries) {\n",
       "        var nentries = entries.length;\n",
       "        for (var i = 0; i < nentries; i++) {\n",
       "            var entry = entries[i];\n",
       "            var width, height;\n",
       "            if (entry.contentBoxSize) {\n",
       "                if (entry.contentBoxSize instanceof Array) {\n",
       "                    // Chrome 84 implements new version of spec.\n",
       "                    width = entry.contentBoxSize[0].inlineSize;\n",
       "                    height = entry.contentBoxSize[0].blockSize;\n",
       "                } else {\n",
       "                    // Firefox implements old version of spec.\n",
       "                    width = entry.contentBoxSize.inlineSize;\n",
       "                    height = entry.contentBoxSize.blockSize;\n",
       "                }\n",
       "            } else {\n",
       "                // Chrome <84 implements even older version of spec.\n",
       "                width = entry.contentRect.width;\n",
       "                height = entry.contentRect.height;\n",
       "            }\n",
       "\n",
       "            // Keep the size of the canvas and rubber band canvas in sync with\n",
       "            // the canvas container.\n",
       "            if (entry.devicePixelContentBoxSize) {\n",
       "                // Chrome 84 implements new version of spec.\n",
       "                canvas.setAttribute(\n",
       "                    'width',\n",
       "                    entry.devicePixelContentBoxSize[0].inlineSize\n",
       "                );\n",
       "                canvas.setAttribute(\n",
       "                    'height',\n",
       "                    entry.devicePixelContentBoxSize[0].blockSize\n",
       "                );\n",
       "            } else {\n",
       "                canvas.setAttribute('width', width * fig.ratio);\n",
       "                canvas.setAttribute('height', height * fig.ratio);\n",
       "            }\n",
       "            canvas.setAttribute(\n",
       "                'style',\n",
       "                'width: ' + width + 'px; height: ' + height + 'px;'\n",
       "            );\n",
       "\n",
       "            rubberband_canvas.setAttribute('width', width);\n",
       "            rubberband_canvas.setAttribute('height', height);\n",
       "\n",
       "            // And update the size in Python. We ignore the initial 0/0 size\n",
       "            // that occurs as the element is placed into the DOM, which should\n",
       "            // otherwise not happen due to the minimum size styling.\n",
       "            if (width != 0 && height != 0) {\n",
       "                fig.request_resize(width, height);\n",
       "            }\n",
       "        }\n",
       "    });\n",
       "    resizeObserver.observe(canvas_div);\n",
       "\n",
       "    function on_mouse_event_closure(name) {\n",
       "        return function (event) {\n",
       "            return fig.mouse_event(event, name);\n",
       "        };\n",
       "    }\n",
       "\n",
       "    rubberband_canvas.addEventListener(\n",
       "        'mousedown',\n",
       "        on_mouse_event_closure('button_press')\n",
       "    );\n",
       "    rubberband_canvas.addEventListener(\n",
       "        'mouseup',\n",
       "        on_mouse_event_closure('button_release')\n",
       "    );\n",
       "    // Throttle sequential mouse events to 1 every 20ms.\n",
       "    rubberband_canvas.addEventListener(\n",
       "        'mousemove',\n",
       "        on_mouse_event_closure('motion_notify')\n",
       "    );\n",
       "\n",
       "    rubberband_canvas.addEventListener(\n",
       "        'mouseenter',\n",
       "        on_mouse_event_closure('figure_enter')\n",
       "    );\n",
       "    rubberband_canvas.addEventListener(\n",
       "        'mouseleave',\n",
       "        on_mouse_event_closure('figure_leave')\n",
       "    );\n",
       "\n",
       "    canvas_div.addEventListener('wheel', function (event) {\n",
       "        if (event.deltaY < 0) {\n",
       "            event.step = 1;\n",
       "        } else {\n",
       "            event.step = -1;\n",
       "        }\n",
       "        on_mouse_event_closure('scroll')(event);\n",
       "    });\n",
       "\n",
       "    canvas_div.appendChild(canvas);\n",
       "    canvas_div.appendChild(rubberband_canvas);\n",
       "\n",
       "    this.rubberband_context = rubberband_canvas.getContext('2d');\n",
       "    this.rubberband_context.strokeStyle = '#000000';\n",
       "\n",
       "    this._resize_canvas = function (width, height, forward) {\n",
       "        if (forward) {\n",
       "            canvas_div.style.width = width + 'px';\n",
       "            canvas_div.style.height = height + 'px';\n",
       "        }\n",
       "    };\n",
       "\n",
       "    // Disable right mouse context menu.\n",
       "    this.rubberband_canvas.addEventListener('contextmenu', function (_e) {\n",
       "        event.preventDefault();\n",
       "        return false;\n",
       "    });\n",
       "\n",
       "    function set_focus() {\n",
       "        canvas.focus();\n",
       "        canvas_div.focus();\n",
       "    }\n",
       "\n",
       "    window.setTimeout(set_focus, 100);\n",
       "};\n",
       "\n",
       "mpl.figure.prototype._init_toolbar = function () {\n",
       "    var fig = this;\n",
       "\n",
       "    var toolbar = document.createElement('div');\n",
       "    toolbar.classList = 'mpl-toolbar';\n",
       "    this.root.appendChild(toolbar);\n",
       "\n",
       "    function on_click_closure(name) {\n",
       "        return function (_event) {\n",
       "            return fig.toolbar_button_onclick(name);\n",
       "        };\n",
       "    }\n",
       "\n",
       "    function on_mouseover_closure(tooltip) {\n",
       "        return function (event) {\n",
       "            if (!event.currentTarget.disabled) {\n",
       "                return fig.toolbar_button_onmouseover(tooltip);\n",
       "            }\n",
       "        };\n",
       "    }\n",
       "\n",
       "    fig.buttons = {};\n",
       "    var buttonGroup = document.createElement('div');\n",
       "    buttonGroup.classList = 'mpl-button-group';\n",
       "    for (var toolbar_ind in mpl.toolbar_items) {\n",
       "        var name = mpl.toolbar_items[toolbar_ind][0];\n",
       "        var tooltip = mpl.toolbar_items[toolbar_ind][1];\n",
       "        var image = mpl.toolbar_items[toolbar_ind][2];\n",
       "        var method_name = mpl.toolbar_items[toolbar_ind][3];\n",
       "\n",
       "        if (!name) {\n",
       "            /* Instead of a spacer, we start a new button group. */\n",
       "            if (buttonGroup.hasChildNodes()) {\n",
       "                toolbar.appendChild(buttonGroup);\n",
       "            }\n",
       "            buttonGroup = document.createElement('div');\n",
       "            buttonGroup.classList = 'mpl-button-group';\n",
       "            continue;\n",
       "        }\n",
       "\n",
       "        var button = (fig.buttons[name] = document.createElement('button'));\n",
       "        button.classList = 'mpl-widget';\n",
       "        button.setAttribute('role', 'button');\n",
       "        button.setAttribute('aria-disabled', 'false');\n",
       "        button.addEventListener('click', on_click_closure(method_name));\n",
       "        button.addEventListener('mouseover', on_mouseover_closure(tooltip));\n",
       "\n",
       "        var icon_img = document.createElement('img');\n",
       "        icon_img.src = '_images/' + image + '.png';\n",
       "        icon_img.srcset = '_images/' + image + '_large.png 2x';\n",
       "        icon_img.alt = tooltip;\n",
       "        button.appendChild(icon_img);\n",
       "\n",
       "        buttonGroup.appendChild(button);\n",
       "    }\n",
       "\n",
       "    if (buttonGroup.hasChildNodes()) {\n",
       "        toolbar.appendChild(buttonGroup);\n",
       "    }\n",
       "\n",
       "    var fmt_picker = document.createElement('select');\n",
       "    fmt_picker.classList = 'mpl-widget';\n",
       "    toolbar.appendChild(fmt_picker);\n",
       "    this.format_dropdown = fmt_picker;\n",
       "\n",
       "    for (var ind in mpl.extensions) {\n",
       "        var fmt = mpl.extensions[ind];\n",
       "        var option = document.createElement('option');\n",
       "        option.selected = fmt === mpl.default_extension;\n",
       "        option.innerHTML = fmt;\n",
       "        fmt_picker.appendChild(option);\n",
       "    }\n",
       "\n",
       "    var status_bar = document.createElement('span');\n",
       "    status_bar.classList = 'mpl-message';\n",
       "    toolbar.appendChild(status_bar);\n",
       "    this.message = status_bar;\n",
       "};\n",
       "\n",
       "mpl.figure.prototype.request_resize = function (x_pixels, y_pixels) {\n",
       "    // Request matplotlib to resize the figure. Matplotlib will then trigger a resize in the client,\n",
       "    // which will in turn request a refresh of the image.\n",
       "    this.send_message('resize', { width: x_pixels, height: y_pixels });\n",
       "};\n",
       "\n",
       "mpl.figure.prototype.send_message = function (type, properties) {\n",
       "    properties['type'] = type;\n",
       "    properties['figure_id'] = this.id;\n",
       "    this.ws.send(JSON.stringify(properties));\n",
       "};\n",
       "\n",
       "mpl.figure.prototype.send_draw_message = function () {\n",
       "    if (!this.waiting) {\n",
       "        this.waiting = true;\n",
       "        this.ws.send(JSON.stringify({ type: 'draw', figure_id: this.id }));\n",
       "    }\n",
       "};\n",
       "\n",
       "mpl.figure.prototype.handle_save = function (fig, _msg) {\n",
       "    var format_dropdown = fig.format_dropdown;\n",
       "    var format = format_dropdown.options[format_dropdown.selectedIndex].value;\n",
       "    fig.ondownload(fig, format);\n",
       "};\n",
       "\n",
       "mpl.figure.prototype.handle_resize = function (fig, msg) {\n",
       "    var size = msg['size'];\n",
       "    if (size[0] !== fig.canvas.width || size[1] !== fig.canvas.height) {\n",
       "        fig._resize_canvas(size[0], size[1], msg['forward']);\n",
       "        fig.send_message('refresh', {});\n",
       "    }\n",
       "};\n",
       "\n",
       "mpl.figure.prototype.handle_rubberband = function (fig, msg) {\n",
       "    var x0 = msg['x0'] / fig.ratio;\n",
       "    var y0 = (fig.canvas.height - msg['y0']) / fig.ratio;\n",
       "    var x1 = msg['x1'] / fig.ratio;\n",
       "    var y1 = (fig.canvas.height - msg['y1']) / fig.ratio;\n",
       "    x0 = Math.floor(x0) + 0.5;\n",
       "    y0 = Math.floor(y0) + 0.5;\n",
       "    x1 = Math.floor(x1) + 0.5;\n",
       "    y1 = Math.floor(y1) + 0.5;\n",
       "    var min_x = Math.min(x0, x1);\n",
       "    var min_y = Math.min(y0, y1);\n",
       "    var width = Math.abs(x1 - x0);\n",
       "    var height = Math.abs(y1 - y0);\n",
       "\n",
       "    fig.rubberband_context.clearRect(\n",
       "        0,\n",
       "        0,\n",
       "        fig.canvas.width / fig.ratio,\n",
       "        fig.canvas.height / fig.ratio\n",
       "    );\n",
       "\n",
       "    fig.rubberband_context.strokeRect(min_x, min_y, width, height);\n",
       "};\n",
       "\n",
       "mpl.figure.prototype.handle_figure_label = function (fig, msg) {\n",
       "    // Updates the figure title.\n",
       "    fig.header.textContent = msg['label'];\n",
       "};\n",
       "\n",
       "mpl.figure.prototype.handle_cursor = function (fig, msg) {\n",
       "    var cursor = msg['cursor'];\n",
       "    switch (cursor) {\n",
       "        case 0:\n",
       "            cursor = 'pointer';\n",
       "            break;\n",
       "        case 1:\n",
       "            cursor = 'default';\n",
       "            break;\n",
       "        case 2:\n",
       "            cursor = 'crosshair';\n",
       "            break;\n",
       "        case 3:\n",
       "            cursor = 'move';\n",
       "            break;\n",
       "    }\n",
       "    fig.rubberband_canvas.style.cursor = cursor;\n",
       "};\n",
       "\n",
       "mpl.figure.prototype.handle_message = function (fig, msg) {\n",
       "    fig.message.textContent = msg['message'];\n",
       "};\n",
       "\n",
       "mpl.figure.prototype.handle_draw = function (fig, _msg) {\n",
       "    // Request the server to send over a new figure.\n",
       "    fig.send_draw_message();\n",
       "};\n",
       "\n",
       "mpl.figure.prototype.handle_image_mode = function (fig, msg) {\n",
       "    fig.image_mode = msg['mode'];\n",
       "};\n",
       "\n",
       "mpl.figure.prototype.handle_history_buttons = function (fig, msg) {\n",
       "    for (var key in msg) {\n",
       "        if (!(key in fig.buttons)) {\n",
       "            continue;\n",
       "        }\n",
       "        fig.buttons[key].disabled = !msg[key];\n",
       "        fig.buttons[key].setAttribute('aria-disabled', !msg[key]);\n",
       "    }\n",
       "};\n",
       "\n",
       "mpl.figure.prototype.handle_navigate_mode = function (fig, msg) {\n",
       "    if (msg['mode'] === 'PAN') {\n",
       "        fig.buttons['Pan'].classList.add('active');\n",
       "        fig.buttons['Zoom'].classList.remove('active');\n",
       "    } else if (msg['mode'] === 'ZOOM') {\n",
       "        fig.buttons['Pan'].classList.remove('active');\n",
       "        fig.buttons['Zoom'].classList.add('active');\n",
       "    } else {\n",
       "        fig.buttons['Pan'].classList.remove('active');\n",
       "        fig.buttons['Zoom'].classList.remove('active');\n",
       "    }\n",
       "};\n",
       "\n",
       "mpl.figure.prototype.updated_canvas_event = function () {\n",
       "    // Called whenever the canvas gets updated.\n",
       "    this.send_message('ack', {});\n",
       "};\n",
       "\n",
       "// A function to construct a web socket function for onmessage handling.\n",
       "// Called in the figure constructor.\n",
       "mpl.figure.prototype._make_on_message_function = function (fig) {\n",
       "    return function socket_on_message(evt) {\n",
       "        if (evt.data instanceof Blob) {\n",
       "            /* FIXME: We get \"Resource interpreted as Image but\n",
       "             * transferred with MIME type text/plain:\" errors on\n",
       "             * Chrome.  But how to set the MIME type?  It doesn't seem\n",
       "             * to be part of the websocket stream */\n",
       "            evt.data.type = 'image/png';\n",
       "\n",
       "            /* Free the memory for the previous frames */\n",
       "            if (fig.imageObj.src) {\n",
       "                (window.URL || window.webkitURL).revokeObjectURL(\n",
       "                    fig.imageObj.src\n",
       "                );\n",
       "            }\n",
       "\n",
       "            fig.imageObj.src = (window.URL || window.webkitURL).createObjectURL(\n",
       "                evt.data\n",
       "            );\n",
       "            fig.updated_canvas_event();\n",
       "            fig.waiting = false;\n",
       "            return;\n",
       "        } else if (\n",
       "            typeof evt.data === 'string' &&\n",
       "            evt.data.slice(0, 21) === 'data:image/png;base64'\n",
       "        ) {\n",
       "            fig.imageObj.src = evt.data;\n",
       "            fig.updated_canvas_event();\n",
       "            fig.waiting = false;\n",
       "            return;\n",
       "        }\n",
       "\n",
       "        var msg = JSON.parse(evt.data);\n",
       "        var msg_type = msg['type'];\n",
       "\n",
       "        // Call the  \"handle_{type}\" callback, which takes\n",
       "        // the figure and JSON message as its only arguments.\n",
       "        try {\n",
       "            var callback = fig['handle_' + msg_type];\n",
       "        } catch (e) {\n",
       "            console.log(\n",
       "                \"No handler for the '\" + msg_type + \"' message type: \",\n",
       "                msg\n",
       "            );\n",
       "            return;\n",
       "        }\n",
       "\n",
       "        if (callback) {\n",
       "            try {\n",
       "                // console.log(\"Handling '\" + msg_type + \"' message: \", msg);\n",
       "                callback(fig, msg);\n",
       "            } catch (e) {\n",
       "                console.log(\n",
       "                    \"Exception inside the 'handler_\" + msg_type + \"' callback:\",\n",
       "                    e,\n",
       "                    e.stack,\n",
       "                    msg\n",
       "                );\n",
       "            }\n",
       "        }\n",
       "    };\n",
       "};\n",
       "\n",
       "// from http://stackoverflow.com/questions/1114465/getting-mouse-location-in-canvas\n",
       "mpl.findpos = function (e) {\n",
       "    //this section is from http://www.quirksmode.org/js/events_properties.html\n",
       "    var targ;\n",
       "    if (!e) {\n",
       "        e = window.event;\n",
       "    }\n",
       "    if (e.target) {\n",
       "        targ = e.target;\n",
       "    } else if (e.srcElement) {\n",
       "        targ = e.srcElement;\n",
       "    }\n",
       "    if (targ.nodeType === 3) {\n",
       "        // defeat Safari bug\n",
       "        targ = targ.parentNode;\n",
       "    }\n",
       "\n",
       "    // pageX,Y are the mouse positions relative to the document\n",
       "    var boundingRect = targ.getBoundingClientRect();\n",
       "    var x = e.pageX - (boundingRect.left + document.body.scrollLeft);\n",
       "    var y = e.pageY - (boundingRect.top + document.body.scrollTop);\n",
       "\n",
       "    return { x: x, y: y };\n",
       "};\n",
       "\n",
       "/*\n",
       " * return a copy of an object with only non-object keys\n",
       " * we need this to avoid circular references\n",
       " * http://stackoverflow.com/a/24161582/3208463\n",
       " */\n",
       "function simpleKeys(original) {\n",
       "    return Object.keys(original).reduce(function (obj, key) {\n",
       "        if (typeof original[key] !== 'object') {\n",
       "            obj[key] = original[key];\n",
       "        }\n",
       "        return obj;\n",
       "    }, {});\n",
       "}\n",
       "\n",
       "mpl.figure.prototype.mouse_event = function (event, name) {\n",
       "    var canvas_pos = mpl.findpos(event);\n",
       "\n",
       "    if (name === 'button_press') {\n",
       "        this.canvas.focus();\n",
       "        this.canvas_div.focus();\n",
       "    }\n",
       "\n",
       "    var x = canvas_pos.x * this.ratio;\n",
       "    var y = canvas_pos.y * this.ratio;\n",
       "\n",
       "    this.send_message(name, {\n",
       "        x: x,\n",
       "        y: y,\n",
       "        button: event.button,\n",
       "        step: event.step,\n",
       "        guiEvent: simpleKeys(event),\n",
       "    });\n",
       "\n",
       "    /* This prevents the web browser from automatically changing to\n",
       "     * the text insertion cursor when the button is pressed.  We want\n",
       "     * to control all of the cursor setting manually through the\n",
       "     * 'cursor' event from matplotlib */\n",
       "    event.preventDefault();\n",
       "    return false;\n",
       "};\n",
       "\n",
       "mpl.figure.prototype._key_event_extra = function (_event, _name) {\n",
       "    // Handle any extra behaviour associated with a key event\n",
       "};\n",
       "\n",
       "mpl.figure.prototype.key_event = function (event, name) {\n",
       "    // Prevent repeat events\n",
       "    if (name === 'key_press') {\n",
       "        if (event.which === this._key) {\n",
       "            return;\n",
       "        } else {\n",
       "            this._key = event.which;\n",
       "        }\n",
       "    }\n",
       "    if (name === 'key_release') {\n",
       "        this._key = null;\n",
       "    }\n",
       "\n",
       "    var value = '';\n",
       "    if (event.ctrlKey && event.which !== 17) {\n",
       "        value += 'ctrl+';\n",
       "    }\n",
       "    if (event.altKey && event.which !== 18) {\n",
       "        value += 'alt+';\n",
       "    }\n",
       "    if (event.shiftKey && event.which !== 16) {\n",
       "        value += 'shift+';\n",
       "    }\n",
       "\n",
       "    value += 'k';\n",
       "    value += event.which.toString();\n",
       "\n",
       "    this._key_event_extra(event, name);\n",
       "\n",
       "    this.send_message(name, { key: value, guiEvent: simpleKeys(event) });\n",
       "    return false;\n",
       "};\n",
       "\n",
       "mpl.figure.prototype.toolbar_button_onclick = function (name) {\n",
       "    if (name === 'download') {\n",
       "        this.handle_save(this, null);\n",
       "    } else {\n",
       "        this.send_message('toolbar_button', { name: name });\n",
       "    }\n",
       "};\n",
       "\n",
       "mpl.figure.prototype.toolbar_button_onmouseover = function (tooltip) {\n",
       "    this.message.textContent = tooltip;\n",
       "};\n",
       "mpl.toolbar_items = [[\"Home\", \"Reset original view\", \"fa fa-home icon-home\", \"home\"], [\"Back\", \"Back to previous view\", \"fa fa-arrow-left icon-arrow-left\", \"back\"], [\"Forward\", \"Forward to next view\", \"fa fa-arrow-right icon-arrow-right\", \"forward\"], [\"\", \"\", \"\", \"\"], [\"Pan\", \"Left button pans, Right button zooms\\nx/y fixes axis, CTRL fixes aspect\", \"fa fa-arrows icon-move\", \"pan\"], [\"Zoom\", \"Zoom to rectangle\\nx/y fixes axis, CTRL fixes aspect\", \"fa fa-square-o icon-check-empty\", \"zoom\"], [\"\", \"\", \"\", \"\"], [\"Download\", \"Download plot\", \"fa fa-floppy-o icon-save\", \"download\"]];\n",
       "\n",
       "mpl.extensions = [\"eps\", \"jpeg\", \"pdf\", \"png\", \"ps\", \"raw\", \"svg\", \"tif\"];\n",
       "\n",
       "mpl.default_extension = \"png\";/* global mpl */\n",
       "\n",
       "var comm_websocket_adapter = function (comm) {\n",
       "    // Create a \"websocket\"-like object which calls the given IPython comm\n",
       "    // object with the appropriate methods. Currently this is a non binary\n",
       "    // socket, so there is still some room for performance tuning.\n",
       "    var ws = {};\n",
       "\n",
       "    ws.close = function () {\n",
       "        comm.close();\n",
       "    };\n",
       "    ws.send = function (m) {\n",
       "        //console.log('sending', m);\n",
       "        comm.send(m);\n",
       "    };\n",
       "    // Register the callback with on_msg.\n",
       "    comm.on_msg(function (msg) {\n",
       "        //console.log('receiving', msg['content']['data'], msg);\n",
       "        // Pass the mpl event to the overridden (by mpl) onmessage function.\n",
       "        ws.onmessage(msg['content']['data']);\n",
       "    });\n",
       "    return ws;\n",
       "};\n",
       "\n",
       "mpl.mpl_figure_comm = function (comm, msg) {\n",
       "    // This is the function which gets called when the mpl process\n",
       "    // starts-up an IPython Comm through the \"matplotlib\" channel.\n",
       "\n",
       "    var id = msg.content.data.id;\n",
       "    // Get hold of the div created by the display call when the Comm\n",
       "    // socket was opened in Python.\n",
       "    var element = document.getElementById(id);\n",
       "    var ws_proxy = comm_websocket_adapter(comm);\n",
       "\n",
       "    function ondownload(figure, _format) {\n",
       "        window.open(figure.canvas.toDataURL());\n",
       "    }\n",
       "\n",
       "    var fig = new mpl.figure(id, ws_proxy, ondownload, element);\n",
       "\n",
       "    // Call onopen now - mpl needs it, as it is assuming we've passed it a real\n",
       "    // web socket which is closed, not our websocket->open comm proxy.\n",
       "    ws_proxy.onopen();\n",
       "\n",
       "    fig.parent_element = element;\n",
       "    fig.cell_info = mpl.find_output_cell(\"<div id='\" + id + \"'></div>\");\n",
       "    if (!fig.cell_info) {\n",
       "        console.error('Failed to find cell for figure', id, fig);\n",
       "        return;\n",
       "    }\n",
       "    fig.cell_info[0].output_area.element.one(\n",
       "        'cleared',\n",
       "        { fig: fig },\n",
       "        fig._remove_fig_handler\n",
       "    );\n",
       "};\n",
       "\n",
       "mpl.figure.prototype.handle_close = function (fig, msg) {\n",
       "    var width = fig.canvas.width / fig.ratio;\n",
       "    fig.cell_info[0].output_area.element.off(\n",
       "        'cleared',\n",
       "        fig._remove_fig_handler\n",
       "    );\n",
       "\n",
       "    // Update the output cell to use the data from the current canvas.\n",
       "    fig.push_to_output();\n",
       "    var dataURL = fig.canvas.toDataURL();\n",
       "    // Re-enable the keyboard manager in IPython - without this line, in FF,\n",
       "    // the notebook keyboard shortcuts fail.\n",
       "    IPython.keyboard_manager.enable();\n",
       "    fig.parent_element.innerHTML =\n",
       "        '<img src=\"' + dataURL + '\" width=\"' + width + '\">';\n",
       "    fig.close_ws(fig, msg);\n",
       "};\n",
       "\n",
       "mpl.figure.prototype.close_ws = function (fig, msg) {\n",
       "    fig.send_message('closing', msg);\n",
       "    // fig.ws.close()\n",
       "};\n",
       "\n",
       "mpl.figure.prototype.push_to_output = function (_remove_interactive) {\n",
       "    // Turn the data on the canvas into data in the output cell.\n",
       "    var width = this.canvas.width / this.ratio;\n",
       "    var dataURL = this.canvas.toDataURL();\n",
       "    this.cell_info[1]['text/html'] =\n",
       "        '<img src=\"' + dataURL + '\" width=\"' + width + '\">';\n",
       "};\n",
       "\n",
       "mpl.figure.prototype.updated_canvas_event = function () {\n",
       "    // Tell IPython that the notebook contents must change.\n",
       "    IPython.notebook.set_dirty(true);\n",
       "    this.send_message('ack', {});\n",
       "    var fig = this;\n",
       "    // Wait a second, then push the new image to the DOM so\n",
       "    // that it is saved nicely (might be nice to debounce this).\n",
       "    setTimeout(function () {\n",
       "        fig.push_to_output();\n",
       "    }, 1000);\n",
       "};\n",
       "\n",
       "mpl.figure.prototype._init_toolbar = function () {\n",
       "    var fig = this;\n",
       "\n",
       "    var toolbar = document.createElement('div');\n",
       "    toolbar.classList = 'btn-toolbar';\n",
       "    this.root.appendChild(toolbar);\n",
       "\n",
       "    function on_click_closure(name) {\n",
       "        return function (_event) {\n",
       "            return fig.toolbar_button_onclick(name);\n",
       "        };\n",
       "    }\n",
       "\n",
       "    function on_mouseover_closure(tooltip) {\n",
       "        return function (event) {\n",
       "            if (!event.currentTarget.disabled) {\n",
       "                return fig.toolbar_button_onmouseover(tooltip);\n",
       "            }\n",
       "        };\n",
       "    }\n",
       "\n",
       "    fig.buttons = {};\n",
       "    var buttonGroup = document.createElement('div');\n",
       "    buttonGroup.classList = 'btn-group';\n",
       "    var button;\n",
       "    for (var toolbar_ind in mpl.toolbar_items) {\n",
       "        var name = mpl.toolbar_items[toolbar_ind][0];\n",
       "        var tooltip = mpl.toolbar_items[toolbar_ind][1];\n",
       "        var image = mpl.toolbar_items[toolbar_ind][2];\n",
       "        var method_name = mpl.toolbar_items[toolbar_ind][3];\n",
       "\n",
       "        if (!name) {\n",
       "            /* Instead of a spacer, we start a new button group. */\n",
       "            if (buttonGroup.hasChildNodes()) {\n",
       "                toolbar.appendChild(buttonGroup);\n",
       "            }\n",
       "            buttonGroup = document.createElement('div');\n",
       "            buttonGroup.classList = 'btn-group';\n",
       "            continue;\n",
       "        }\n",
       "\n",
       "        button = fig.buttons[name] = document.createElement('button');\n",
       "        button.classList = 'btn btn-default';\n",
       "        button.href = '#';\n",
       "        button.title = name;\n",
       "        button.innerHTML = '<i class=\"fa ' + image + ' fa-lg\"></i>';\n",
       "        button.addEventListener('click', on_click_closure(method_name));\n",
       "        button.addEventListener('mouseover', on_mouseover_closure(tooltip));\n",
       "        buttonGroup.appendChild(button);\n",
       "    }\n",
       "\n",
       "    if (buttonGroup.hasChildNodes()) {\n",
       "        toolbar.appendChild(buttonGroup);\n",
       "    }\n",
       "\n",
       "    // Add the status bar.\n",
       "    var status_bar = document.createElement('span');\n",
       "    status_bar.classList = 'mpl-message pull-right';\n",
       "    toolbar.appendChild(status_bar);\n",
       "    this.message = status_bar;\n",
       "\n",
       "    // Add the close button to the window.\n",
       "    var buttongrp = document.createElement('div');\n",
       "    buttongrp.classList = 'btn-group inline pull-right';\n",
       "    button = document.createElement('button');\n",
       "    button.classList = 'btn btn-mini btn-primary';\n",
       "    button.href = '#';\n",
       "    button.title = 'Stop Interaction';\n",
       "    button.innerHTML = '<i class=\"fa fa-power-off icon-remove icon-large\"></i>';\n",
       "    button.addEventListener('click', function (_evt) {\n",
       "        fig.handle_close(fig, {});\n",
       "    });\n",
       "    button.addEventListener(\n",
       "        'mouseover',\n",
       "        on_mouseover_closure('Stop Interaction')\n",
       "    );\n",
       "    buttongrp.appendChild(button);\n",
       "    var titlebar = this.root.querySelector('.ui-dialog-titlebar');\n",
       "    titlebar.insertBefore(buttongrp, titlebar.firstChild);\n",
       "};\n",
       "\n",
       "mpl.figure.prototype._remove_fig_handler = function (event) {\n",
       "    var fig = event.data.fig;\n",
       "    fig.close_ws(fig, {});\n",
       "};\n",
       "\n",
       "mpl.figure.prototype._root_extra_style = function (el) {\n",
       "    el.style.boxSizing = 'content-box'; // override notebook setting of border-box.\n",
       "};\n",
       "\n",
       "mpl.figure.prototype._canvas_extra_style = function (el) {\n",
       "    // this is important to make the div 'focusable\n",
       "    el.setAttribute('tabindex', 0);\n",
       "    // reach out to IPython and tell the keyboard manager to turn it's self\n",
       "    // off when our div gets focus\n",
       "\n",
       "    // location in version 3\n",
       "    if (IPython.notebook.keyboard_manager) {\n",
       "        IPython.notebook.keyboard_manager.register_events(el);\n",
       "    } else {\n",
       "        // location in version 2\n",
       "        IPython.keyboard_manager.register_events(el);\n",
       "    }\n",
       "};\n",
       "\n",
       "mpl.figure.prototype._key_event_extra = function (event, _name) {\n",
       "    var manager = IPython.notebook.keyboard_manager;\n",
       "    if (!manager) {\n",
       "        manager = IPython.keyboard_manager;\n",
       "    }\n",
       "\n",
       "    // Check for shift+enter\n",
       "    if (event.shiftKey && event.which === 13) {\n",
       "        this.canvas_div.blur();\n",
       "        // select the cell after this one\n",
       "        var index = IPython.notebook.find_cell_index(this.cell_info[0]);\n",
       "        IPython.notebook.select(index + 1);\n",
       "    }\n",
       "};\n",
       "\n",
       "mpl.figure.prototype.handle_save = function (fig, _msg) {\n",
       "    fig.ondownload(fig, null);\n",
       "};\n",
       "\n",
       "mpl.find_output_cell = function (html_output) {\n",
       "    // Return the cell and output element which can be found *uniquely* in the notebook.\n",
       "    // Note - this is a bit hacky, but it is done because the \"notebook_saving.Notebook\"\n",
       "    // IPython event is triggered only after the cells have been serialised, which for\n",
       "    // our purposes (turning an active figure into a static one), is too late.\n",
       "    var cells = IPython.notebook.get_cells();\n",
       "    var ncells = cells.length;\n",
       "    for (var i = 0; i < ncells; i++) {\n",
       "        var cell = cells[i];\n",
       "        if (cell.cell_type === 'code') {\n",
       "            for (var j = 0; j < cell.output_area.outputs.length; j++) {\n",
       "                var data = cell.output_area.outputs[j];\n",
       "                if (data.data) {\n",
       "                    // IPython >= 3 moved mimebundle to data attribute of output\n",
       "                    data = data.data;\n",
       "                }\n",
       "                if (data['text/html'] === html_output) {\n",
       "                    return [cell, data, j];\n",
       "                }\n",
       "            }\n",
       "        }\n",
       "    }\n",
       "};\n",
       "\n",
       "// Register the function which deals with the matplotlib target/channel.\n",
       "// The kernel may be null if the page has been refreshed.\n",
       "if (IPython.notebook.kernel !== null) {\n",
       "    IPython.notebook.kernel.comm_manager.register_target(\n",
       "        'matplotlib',\n",
       "        mpl.mpl_figure_comm\n",
       "    );\n",
       "}\n"
      ],
      "text/plain": [
       "<IPython.core.display.Javascript object>"
      ]
     },
     "metadata": {},
     "output_type": "display_data"
    },
    {
     "data": {
      "text/html": [
       "<img src=\"data:image/png;base64,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\" width=\"640\">"
      ],
      "text/plain": [
       "<IPython.core.display.HTML object>"
      ]
     },
     "metadata": {},
     "output_type": "display_data"
    },
    {
     "name": "stderr",
     "output_type": "stream",
     "text": [
      "No handles with labels found to put in legend.\n"
     ]
    },
    {
     "data": {
      "text/plain": [
       "<matplotlib.legend.Legend at 0x1c880e345e0>"
      ]
     },
     "execution_count": 42,
     "metadata": {},
     "output_type": "execute_result"
    }
   ],
   "source": [
    "%matplotlib notebook\n",
    "\n",
    "\n",
    "fig = plt.figure()\n",
    "ax = plt.axes(projection='3d')\n",
    "ax.scatter3D(\n",
    "    coef_d1, \n",
    "    coef_d2, \n",
    "    coef_d3, s=400, c=coef_d1, marker='^');\n",
    "\n",
    "ax.legend()"
   ]
  },
  {
   "cell_type": "code",
   "execution_count": null,
   "metadata": {},
   "outputs": [],
   "source": [
    "%matplotlib --list"
   ]
  },
  {
   "cell_type": "code",
   "execution_count": null,
   "metadata": {},
   "outputs": [],
   "source": []
  }
 ],
 "metadata": {
  "kernelspec": {
   "display_name": "Python 3",
   "language": "python",
   "name": "python3"
  },
  "language_info": {
   "codemirror_mode": {
    "name": "ipython",
    "version": 3
   },
   "file_extension": ".py",
   "mimetype": "text/x-python",
   "name": "python",
   "nbconvert_exporter": "python",
   "pygments_lexer": "ipython3",
   "version": "3.8.5"
  }
 },
 "nbformat": 4,
 "nbformat_minor": 4
}
